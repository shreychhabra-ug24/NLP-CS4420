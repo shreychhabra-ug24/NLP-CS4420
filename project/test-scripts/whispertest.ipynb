{
 "cells": [
  {
   "cell_type": "markdown",
   "id": "a1695439",
   "metadata": {},
   "source": [
    "# Testing Project Models: Whisper by OpenAI"
   ]
  },
  {
   "cell_type": "code",
   "execution_count": 11,
   "id": "6c7269f5",
   "metadata": {},
   "outputs": [],
   "source": [
    "import whisper\n",
    "import os\n",
    "import ssl\n",
    "\n",
    "# Disable SSL verification\n",
    "ssl._create_default_https_context = ssl._create_unverified_context\n",
    "model = whisper.load_model(\"turbo\")"
   ]
  },
  {
   "cell_type": "code",
   "execution_count": 12,
   "id": "4dc8a3c7",
   "metadata": {},
   "outputs": [
    {
     "name": "stderr",
     "output_type": "stream",
     "text": [
      "/Library/Frameworks/Python.framework/Versions/3.9/lib/python3.9/site-packages/whisper/transcribe.py:126: UserWarning: FP16 is not supported on CPU; using FP32 instead\n",
      "  warnings.warn(\"FP16 is not supported on CPU; using FP32 instead\")\n"
     ]
    },
    {
     "name": "stdout",
     "output_type": "stream",
     "text": [
      " Dit is een test van de OpenAI WISPER model. Testing, Testing, Testing.\n"
     ]
    }
   ],
   "source": [
    "result = model.transcribe(\"Rai.m4a\", task=\"translate\", language=\"nl\")\n",
    "print(result[\"text\"])"
   ]
  }
 ],
 "metadata": {
  "kernelspec": {
   "display_name": "Python 3",
   "language": "python",
   "name": "python3"
  },
  "language_info": {
   "codemirror_mode": {
    "name": "ipython",
    "version": 3
   },
   "file_extension": ".py",
   "mimetype": "text/x-python",
   "name": "python",
   "nbconvert_exporter": "python",
   "pygments_lexer": "ipython3",
   "version": "3.9.13"
  }
 },
 "nbformat": 4,
 "nbformat_minor": 5
}
